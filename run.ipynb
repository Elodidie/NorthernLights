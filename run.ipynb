{
 "cells": [
  {
   "cell_type": "code",
   "execution_count": null,
   "metadata": {},
   "outputs": [],
   "source": [
    "#Projet 1 Machine learning"
   ]
  },
  {
   "cell_type": "code",
   "execution_count": null,
   "metadata": {},
   "outputs": [],
   "source": [
    "# Useful starting lines\n",
    "%matplotlib inline\n",
    "import numpy as np\n",
    "import matplotlib.pyplot as plt\n",
    "%load_ext autoreload\n",
    "%autoreload 2"
   ]
  },
  {
   "cell_type": "code",
   "execution_count": null,
   "metadata": {},
   "outputs": [],
   "source": [
    "from proj1_helpers import *\n",
    "DATA_TRAIN_PATH = 'data/train.csv' # TODO: download train data and supply path here \n",
    "y, x, ids = load_csv_data(DATA_TRAIN_PATH)\n",
    "y.shape"
   ]
  },
  {
   "cell_type": "code",
   "execution_count": null,
   "metadata": {},
   "outputs": [],
   "source": [
    "from data_preprocessing import *\n",
    "\n",
    "#Constant definition\n",
    "undefined_features = [[4, 5, 6, 12, 22, 23, 24, 25, 26,\n",
    "                       27, 28, 29], [4, 5, 6, 12, 22, 26, 27, 28], [22], [22]]\n",
    "method=\n",
    "param_type=\n",
    "w_opt_list=[]\n",
    "index_te\n",
    "\n",
    "#Data standardization\n",
    "x_jets,y_jets=data_standardization(x,y,22,undefined_features,1,0)\n",
    "\n",
    "\n",
    "# Computation of best parameters for each jet\n",
    "for (x_jet, y_jet) in zip(x_jets, y_jets):\n",
    "    if param_type='degree':\n",
    "    best_degree,rmse_te,best_lambda=best_parameters()\n",
    "    if param_type='lambda':\n",
    "    best_lambda,rmse_te,best_degree=best_parameters()\n",
    "    \n",
    "    w=best_w(y_jet,x_jet,method,best_lambda,best_deg)\n",
    "    w_opt_list.append(w)\n",
    "\n",
    "accuracy=compute_accuracy(y_jets,x_jets,index_te,w_opt_list)\n",
    "\n",
    "#Visualisation\n",
    "\n",
    "\n",
    "\n",
    "    \n",
    "    \n",
    "\n"
   ]
  }
 ],
 "metadata": {
  "kernelspec": {
   "display_name": "Python 3",
   "language": "python",
   "name": "python3"
  },
  "language_info": {
   "codemirror_mode": {
    "name": "ipython",
    "version": 3
   },
   "file_extension": ".py",
   "mimetype": "text/x-python",
   "name": "python",
   "nbconvert_exporter": "python",
   "pygments_lexer": "ipython3",
   "version": "3.6.9"
  }
 },
 "nbformat": 4,
 "nbformat_minor": 4
}
